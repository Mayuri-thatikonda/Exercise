{
  "nbformat": 4,
  "nbformat_minor": 0,
  "metadata": {
    "colab": {
      "name": "Exercise.ipynb",
      "provenance": [],
      "authorship_tag": "ABX9TyN7v5dEwXiR5983Pja2I+JW",
      "include_colab_link": true
    },
    "kernelspec": {
      "name": "python3",
      "display_name": "Python 3"
    },
    "language_info": {
      "name": "python"
    }
  },
  "cells": [
    {
      "cell_type": "markdown",
      "metadata": {
        "id": "view-in-github",
        "colab_type": "text"
      },
      "source": [
        "<a href=\"https://colab.research.google.com/github/Mayuri-thatikonda/Exercise/blob/main/Exercise.ipynb\" target=\"_parent\"><img src=\"https://colab.research.google.com/assets/colab-badge.svg\" alt=\"Open In Colab\"/></a>"
      ]
    },
    {
      "cell_type": "code",
      "metadata": {
        "id": "oSQGkG7LGNvI"
      },
      "source": [
        "import numpy as np\n",
        "import pandas as pd\n",
        "import matplotlib.pyplot as plt"
      ],
      "execution_count": 1,
      "outputs": []
    },
    {
      "cell_type": "code",
      "metadata": {
        "id": "vGG2s9gvGlsQ"
      },
      "source": [
        "dataset=pd.read_csv('exercise_dataset.csv')\n"
      ],
      "execution_count": 3,
      "outputs": []
    },
    {
      "cell_type": "code",
      "metadata": {
        "colab": {
          "base_uri": "https://localhost:8080/",
          "height": 206
        },
        "id": "jXfnZzXoGwoW",
        "outputId": "21759115-4ee3-4afb-c08c-3099daeb36e7"
      },
      "source": [
        "dataset.head()"
      ],
      "execution_count": 4,
      "outputs": [
        {
          "output_type": "execute_result",
          "data": {
            "text/html": [
              "<div>\n",
              "<style scoped>\n",
              "    .dataframe tbody tr th:only-of-type {\n",
              "        vertical-align: middle;\n",
              "    }\n",
              "\n",
              "    .dataframe tbody tr th {\n",
              "        vertical-align: top;\n",
              "    }\n",
              "\n",
              "    .dataframe thead th {\n",
              "        text-align: right;\n",
              "    }\n",
              "</style>\n",
              "<table border=\"1\" class=\"dataframe\">\n",
              "  <thead>\n",
              "    <tr style=\"text-align: right;\">\n",
              "      <th></th>\n",
              "      <th>Activity, Exercise or Sport (1 hour)</th>\n",
              "      <th>130 lb</th>\n",
              "      <th>155 lb</th>\n",
              "      <th>180 lb</th>\n",
              "      <th>205 lb</th>\n",
              "      <th>Calories per kg</th>\n",
              "    </tr>\n",
              "  </thead>\n",
              "  <tbody>\n",
              "    <tr>\n",
              "      <th>0</th>\n",
              "      <td>Cycling, mountain bike, bmx</td>\n",
              "      <td>502</td>\n",
              "      <td>598</td>\n",
              "      <td>695</td>\n",
              "      <td>791</td>\n",
              "      <td>1.750730</td>\n",
              "    </tr>\n",
              "    <tr>\n",
              "      <th>1</th>\n",
              "      <td>Cycling, &lt;10 mph, leisure bicycling</td>\n",
              "      <td>236</td>\n",
              "      <td>281</td>\n",
              "      <td>327</td>\n",
              "      <td>372</td>\n",
              "      <td>0.823236</td>\n",
              "    </tr>\n",
              "    <tr>\n",
              "      <th>2</th>\n",
              "      <td>Cycling, &gt;20 mph, racing</td>\n",
              "      <td>944</td>\n",
              "      <td>1126</td>\n",
              "      <td>1308</td>\n",
              "      <td>1489</td>\n",
              "      <td>3.294974</td>\n",
              "    </tr>\n",
              "    <tr>\n",
              "      <th>3</th>\n",
              "      <td>Cycling, 10-11.9 mph, light</td>\n",
              "      <td>354</td>\n",
              "      <td>422</td>\n",
              "      <td>490</td>\n",
              "      <td>558</td>\n",
              "      <td>1.234853</td>\n",
              "    </tr>\n",
              "    <tr>\n",
              "      <th>4</th>\n",
              "      <td>Cycling, 12-13.9 mph, moderate</td>\n",
              "      <td>472</td>\n",
              "      <td>563</td>\n",
              "      <td>654</td>\n",
              "      <td>745</td>\n",
              "      <td>1.647825</td>\n",
              "    </tr>\n",
              "  </tbody>\n",
              "</table>\n",
              "</div>"
            ],
            "text/plain": [
              "  Activity, Exercise or Sport (1 hour)  130 lb  ...  205 lb  Calories per kg\n",
              "0          Cycling, mountain bike, bmx     502  ...     791         1.750730\n",
              "1  Cycling, <10 mph, leisure bicycling     236  ...     372         0.823236\n",
              "2             Cycling, >20 mph, racing     944  ...    1489         3.294974\n",
              "3          Cycling, 10-11.9 mph, light     354  ...     558         1.234853\n",
              "4       Cycling, 12-13.9 mph, moderate     472  ...     745         1.647825\n",
              "\n",
              "[5 rows x 6 columns]"
            ]
          },
          "metadata": {
            "tags": []
          },
          "execution_count": 4
        }
      ]
    },
    {
      "cell_type": "code",
      "metadata": {
        "colab": {
          "base_uri": "https://localhost:8080/"
        },
        "id": "1dIQ4LOJG24j",
        "outputId": "de3d79ab-fabf-4458-8e35-35ea614a5bbc"
      },
      "source": [
        "dataset.info()"
      ],
      "execution_count": 5,
      "outputs": [
        {
          "output_type": "stream",
          "text": [
            "<class 'pandas.core.frame.DataFrame'>\n",
            "RangeIndex: 248 entries, 0 to 247\n",
            "Data columns (total 6 columns):\n",
            " #   Column                                Non-Null Count  Dtype  \n",
            "---  ------                                --------------  -----  \n",
            " 0   Activity, Exercise or Sport (1 hour)  248 non-null    object \n",
            " 1   130 lb                                248 non-null    int64  \n",
            " 2   155 lb                                248 non-null    int64  \n",
            " 3   180 lb                                248 non-null    int64  \n",
            " 4   205 lb                                248 non-null    int64  \n",
            " 5   Calories per kg                       248 non-null    float64\n",
            "dtypes: float64(1), int64(4), object(1)\n",
            "memory usage: 11.8+ KB\n"
          ],
          "name": "stdout"
        }
      ]
    },
    {
      "cell_type": "code",
      "metadata": {
        "colab": {
          "base_uri": "https://localhost:8080/"
        },
        "id": "bY7PIQvWHqFl",
        "outputId": "9161959e-15a2-4c07-f3e8-7e97516e4ad8"
      },
      "source": [
        "dataset.columns"
      ],
      "execution_count": 8,
      "outputs": [
        {
          "output_type": "execute_result",
          "data": {
            "text/plain": [
              "Index(['Activity, Exercise or Sport (1 hour)', '130 lb', '155 lb', '180 lb',\n",
              "       '205 lb', 'Calories per kg'],\n",
              "      dtype='object')"
            ]
          },
          "metadata": {
            "tags": []
          },
          "execution_count": 8
        }
      ]
    },
    {
      "cell_type": "code",
      "metadata": {
        "colab": {
          "base_uri": "https://localhost:8080/",
          "height": 300
        },
        "id": "fs_UK19DG8zd",
        "outputId": "073c6a5f-75af-487c-dff8-0db7668dfa24"
      },
      "source": [
        "dataset.describe()"
      ],
      "execution_count": 6,
      "outputs": [
        {
          "output_type": "execute_result",
          "data": {
            "text/html": [
              "<div>\n",
              "<style scoped>\n",
              "    .dataframe tbody tr th:only-of-type {\n",
              "        vertical-align: middle;\n",
              "    }\n",
              "\n",
              "    .dataframe tbody tr th {\n",
              "        vertical-align: top;\n",
              "    }\n",
              "\n",
              "    .dataframe thead th {\n",
              "        text-align: right;\n",
              "    }\n",
              "</style>\n",
              "<table border=\"1\" class=\"dataframe\">\n",
              "  <thead>\n",
              "    <tr style=\"text-align: right;\">\n",
              "      <th></th>\n",
              "      <th>130 lb</th>\n",
              "      <th>155 lb</th>\n",
              "      <th>180 lb</th>\n",
              "      <th>205 lb</th>\n",
              "      <th>Calories per kg</th>\n",
              "    </tr>\n",
              "  </thead>\n",
              "  <tbody>\n",
              "    <tr>\n",
              "      <th>count</th>\n",
              "      <td>248.000000</td>\n",
              "      <td>248.000000</td>\n",
              "      <td>248.000000</td>\n",
              "      <td>248.000000</td>\n",
              "      <td>248.000000</td>\n",
              "    </tr>\n",
              "    <tr>\n",
              "      <th>mean</th>\n",
              "      <td>389.754032</td>\n",
              "      <td>464.689516</td>\n",
              "      <td>539.685484</td>\n",
              "      <td>614.620968</td>\n",
              "      <td>1.359930</td>\n",
              "    </tr>\n",
              "    <tr>\n",
              "      <th>std</th>\n",
              "      <td>194.434028</td>\n",
              "      <td>232.019135</td>\n",
              "      <td>269.430029</td>\n",
              "      <td>306.847470</td>\n",
              "      <td>0.678851</td>\n",
              "    </tr>\n",
              "    <tr>\n",
              "      <th>min</th>\n",
              "      <td>89.000000</td>\n",
              "      <td>106.000000</td>\n",
              "      <td>123.000000</td>\n",
              "      <td>140.000000</td>\n",
              "      <td>0.310067</td>\n",
              "    </tr>\n",
              "    <tr>\n",
              "      <th>25%</th>\n",
              "      <td>236.000000</td>\n",
              "      <td>281.000000</td>\n",
              "      <td>327.000000</td>\n",
              "      <td>372.000000</td>\n",
              "      <td>0.823236</td>\n",
              "    </tr>\n",
              "    <tr>\n",
              "      <th>50%</th>\n",
              "      <td>354.000000</td>\n",
              "      <td>422.000000</td>\n",
              "      <td>490.000000</td>\n",
              "      <td>558.000000</td>\n",
              "      <td>1.234853</td>\n",
              "    </tr>\n",
              "    <tr>\n",
              "      <th>75%</th>\n",
              "      <td>472.000000</td>\n",
              "      <td>563.000000</td>\n",
              "      <td>654.000000</td>\n",
              "      <td>745.000000</td>\n",
              "      <td>1.647825</td>\n",
              "    </tr>\n",
              "    <tr>\n",
              "      <th>max</th>\n",
              "      <td>1062.000000</td>\n",
              "      <td>1267.000000</td>\n",
              "      <td>1471.000000</td>\n",
              "      <td>1675.000000</td>\n",
              "      <td>3.706591</td>\n",
              "    </tr>\n",
              "  </tbody>\n",
              "</table>\n",
              "</div>"
            ],
            "text/plain": [
              "            130 lb       155 lb       180 lb       205 lb  Calories per kg\n",
              "count   248.000000   248.000000   248.000000   248.000000       248.000000\n",
              "mean    389.754032   464.689516   539.685484   614.620968         1.359930\n",
              "std     194.434028   232.019135   269.430029   306.847470         0.678851\n",
              "min      89.000000   106.000000   123.000000   140.000000         0.310067\n",
              "25%     236.000000   281.000000   327.000000   372.000000         0.823236\n",
              "50%     354.000000   422.000000   490.000000   558.000000         1.234853\n",
              "75%     472.000000   563.000000   654.000000   745.000000         1.647825\n",
              "max    1062.000000  1267.000000  1471.000000  1675.000000         3.706591"
            ]
          },
          "metadata": {
            "tags": []
          },
          "execution_count": 6
        }
      ]
    },
    {
      "cell_type": "code",
      "metadata": {
        "colab": {
          "base_uri": "https://localhost:8080/"
        },
        "id": "Eynan8eLHEJB",
        "outputId": "de3e0fbf-649e-4a31-b4c1-d756534bb410"
      },
      "source": [
        "dataset.isnull().sum()"
      ],
      "execution_count": 7,
      "outputs": [
        {
          "output_type": "execute_result",
          "data": {
            "text/plain": [
              "Activity, Exercise or Sport (1 hour)    0\n",
              "130 lb                                  0\n",
              "155 lb                                  0\n",
              "180 lb                                  0\n",
              "205 lb                                  0\n",
              "Calories per kg                         0\n",
              "dtype: int64"
            ]
          },
          "metadata": {
            "tags": []
          },
          "execution_count": 7
        }
      ]
    },
    {
      "cell_type": "code",
      "metadata": {
        "colab": {
          "base_uri": "https://localhost:8080/",
          "height": 206
        },
        "id": "A0KaKfByHLEC",
        "outputId": "908973d9-fc13-4967-deb5-d18248b92faa"
      },
      "source": [
        "dataset.rename(columns={'Activity, Exercise or Sport (1 hour)': '1 hour exercise'},inplace=True)\n",
        "dataset.head()"
      ],
      "execution_count": 9,
      "outputs": [
        {
          "output_type": "execute_result",
          "data": {
            "text/html": [
              "<div>\n",
              "<style scoped>\n",
              "    .dataframe tbody tr th:only-of-type {\n",
              "        vertical-align: middle;\n",
              "    }\n",
              "\n",
              "    .dataframe tbody tr th {\n",
              "        vertical-align: top;\n",
              "    }\n",
              "\n",
              "    .dataframe thead th {\n",
              "        text-align: right;\n",
              "    }\n",
              "</style>\n",
              "<table border=\"1\" class=\"dataframe\">\n",
              "  <thead>\n",
              "    <tr style=\"text-align: right;\">\n",
              "      <th></th>\n",
              "      <th>1 hour exercise</th>\n",
              "      <th>130 lb</th>\n",
              "      <th>155 lb</th>\n",
              "      <th>180 lb</th>\n",
              "      <th>205 lb</th>\n",
              "      <th>Calories per kg</th>\n",
              "    </tr>\n",
              "  </thead>\n",
              "  <tbody>\n",
              "    <tr>\n",
              "      <th>0</th>\n",
              "      <td>Cycling, mountain bike, bmx</td>\n",
              "      <td>502</td>\n",
              "      <td>598</td>\n",
              "      <td>695</td>\n",
              "      <td>791</td>\n",
              "      <td>1.750730</td>\n",
              "    </tr>\n",
              "    <tr>\n",
              "      <th>1</th>\n",
              "      <td>Cycling, &lt;10 mph, leisure bicycling</td>\n",
              "      <td>236</td>\n",
              "      <td>281</td>\n",
              "      <td>327</td>\n",
              "      <td>372</td>\n",
              "      <td>0.823236</td>\n",
              "    </tr>\n",
              "    <tr>\n",
              "      <th>2</th>\n",
              "      <td>Cycling, &gt;20 mph, racing</td>\n",
              "      <td>944</td>\n",
              "      <td>1126</td>\n",
              "      <td>1308</td>\n",
              "      <td>1489</td>\n",
              "      <td>3.294974</td>\n",
              "    </tr>\n",
              "    <tr>\n",
              "      <th>3</th>\n",
              "      <td>Cycling, 10-11.9 mph, light</td>\n",
              "      <td>354</td>\n",
              "      <td>422</td>\n",
              "      <td>490</td>\n",
              "      <td>558</td>\n",
              "      <td>1.234853</td>\n",
              "    </tr>\n",
              "    <tr>\n",
              "      <th>4</th>\n",
              "      <td>Cycling, 12-13.9 mph, moderate</td>\n",
              "      <td>472</td>\n",
              "      <td>563</td>\n",
              "      <td>654</td>\n",
              "      <td>745</td>\n",
              "      <td>1.647825</td>\n",
              "    </tr>\n",
              "  </tbody>\n",
              "</table>\n",
              "</div>"
            ],
            "text/plain": [
              "                       1 hour exercise  130 lb  ...  205 lb  Calories per kg\n",
              "0          Cycling, mountain bike, bmx     502  ...     791         1.750730\n",
              "1  Cycling, <10 mph, leisure bicycling     236  ...     372         0.823236\n",
              "2             Cycling, >20 mph, racing     944  ...    1489         3.294974\n",
              "3          Cycling, 10-11.9 mph, light     354  ...     558         1.234853\n",
              "4       Cycling, 12-13.9 mph, moderate     472  ...     745         1.647825\n",
              "\n",
              "[5 rows x 6 columns]"
            ]
          },
          "metadata": {
            "tags": []
          },
          "execution_count": 9
        }
      ]
    },
    {
      "cell_type": "code",
      "metadata": {
        "colab": {
          "base_uri": "https://localhost:8080/"
        },
        "id": "6cGT_FyQH8yV",
        "outputId": "634fc001-b206-469d-b0d6-959bfeff4c30"
      },
      "source": [
        "from sklearn.preprocessing import LabelEncoder\n",
        "le = LabelEncoder()\n",
        "dataset['1 hour exercise'] = le.fit_transform(dataset['1 hour exercise'])\n",
        "print(dataset)"
      ],
      "execution_count": 10,
      "outputs": [
        {
          "output_type": "stream",
          "text": [
            "     1 hour exercise  130 lb  155 lb  180 lb  205 lb  Calories per kg\n",
            "0                 61     502     598     695     791         1.750730\n",
            "1                 59     236     281     327     372         0.823236\n",
            "2                 60     944    1126    1308    1489         3.294974\n",
            "3                 55     354     422     490     558         1.234853\n",
            "4                 56     472     563     654     745         1.647825\n",
            "..               ...     ...     ...     ...     ...              ...\n",
            "243               73     207     246     286     326         0.721008\n",
            "244               40     148     176     204     233         0.515199\n",
            "245              207     177     211     245     279         0.617427\n",
            "246              232     236     281     327     372         0.823236\n",
            "247              208     236     281     327     372         0.823236\n",
            "\n",
            "[248 rows x 6 columns]\n"
          ],
          "name": "stdout"
        }
      ]
    },
    {
      "cell_type": "code",
      "metadata": {
        "id": "ebQeP241IX-n"
      },
      "source": [
        "X = dataset.iloc[:, :-1]\n",
        "y = dataset.iloc[:,-1]\n"
      ],
      "execution_count": 13,
      "outputs": []
    },
    {
      "cell_type": "code",
      "metadata": {
        "id": "rLui9BKoIQdb"
      },
      "source": [
        "from sklearn.model_selection import train_test_split\n",
        "X_train, X_test, y_train, y_test = train_test_split(X, y, test_size = 0.2, random_state = 0)\n"
      ],
      "execution_count": 14,
      "outputs": []
    },
    {
      "cell_type": "code",
      "metadata": {
        "colab": {
          "base_uri": "https://localhost:8080/"
        },
        "id": "iPGno2DOJTjE",
        "outputId": "9a22949c-5cf7-4a79-c4d0-666491e4c90b"
      },
      "source": [
        "from sklearn.linear_model import LinearRegression\n",
        "regressor = LinearRegression()\n",
        "regressor.fit(X_train, y_train)\n",
        "y_pred = regressor.predict(X_test)\n",
        "print(y_pred)\n",
        "from sklearn.metrics import r2_score\n",
        "r2_score(y_test, y_pred)"
      ],
      "execution_count": 19,
      "outputs": [
        {
          "output_type": "stream",
          "text": [
            "[0.82 0.62 0.52 0.62 1.65 1.23 3.09 1.03 1.03 1.44 1.65 1.65 0.89 0.82\n",
            " 0.82 2.06 0.72 2.06 0.72 0.72 0.82 0.72 1.34 1.65 2.88 1.65 1.65 2.06\n",
            " 0.52 2.06 2.06 0.62 2.57 0.62 2.47 2.06 1.75 1.44 2.57 1.3  1.65 0.93\n",
            " 1.85 1.23 1.65 1.44 0.89 0.82 1.85 0.72]\n"
          ],
          "name": "stdout"
        },
        {
          "output_type": "execute_result",
          "data": {
            "text/plain": [
              "1.0"
            ]
          },
          "metadata": {
            "tags": []
          },
          "execution_count": 19
        }
      ]
    },
    {
      "cell_type": "code",
      "metadata": {
        "colab": {
          "base_uri": "https://localhost:8080/"
        },
        "id": "80ZApHRqI8un",
        "outputId": "91c83830-749b-43da-b68e-9d6264ef52d4"
      },
      "source": [
        "from sklearn.ensemble import RandomForestRegressor\n",
        "regressor = RandomForestRegressor(n_estimators = 10, random_state = 0)\n",
        "regressor.fit(X_train, y_train)\n",
        "y_pred = regressor.predict(X_test)\n",
        "print(y_pred)\n",
        "from sklearn.metrics import r2_score\n",
        "r2_score(y_test, y_pred)\n"
      ],
      "execution_count": 25,
      "outputs": [
        {
          "output_type": "stream",
          "text": [
            "[0.82 0.62 0.52 0.62 1.65 1.23 3.04 1.03 1.03 1.44 1.65 1.65 0.93 0.82\n",
            " 0.82 2.06 0.72 2.06 0.72 0.72 0.82 0.72 1.34 1.65 2.87 1.65 1.65 2.06\n",
            " 0.52 2.06 2.06 0.62 2.65 0.62 2.62 2.06 1.74 1.44 2.65 1.34 1.65 0.93\n",
            " 1.85 1.23 1.65 1.44 0.93 0.82 1.85 0.72]\n"
          ],
          "name": "stdout"
        },
        {
          "output_type": "execute_result",
          "data": {
            "text/plain": [
              "0.9981910444392281"
            ]
          },
          "metadata": {
            "tags": []
          },
          "execution_count": 25
        }
      ]
    }
  ]
}